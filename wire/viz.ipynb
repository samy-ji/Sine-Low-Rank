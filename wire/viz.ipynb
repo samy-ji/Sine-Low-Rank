{
 "cells": [
  {
   "cell_type": "code",
   "execution_count": 7,
   "metadata": {},
   "outputs": [
    {
     "name": "stdout",
     "output_type": "stream",
     "text": [
      "701236.0\n",
      "134217728\n"
     ]
    },
    {
     "ename": "",
     "evalue": "",
     "output_type": "error",
     "traceback": [
      "\u001b[1;31mThe Kernel crashed while executing code in the current cell or a previous cell. \n",
      "\u001b[1;31mPlease review the code in the cell(s) to identify a possible cause of the failure. \n",
      "\u001b[1;31mClick <a href='https://aka.ms/vscodeJupyterKernelCrash'>here</a> for more info. \n",
      "\u001b[1;31mView Jupyter <a href='command:jupyter.viewOutput'>log</a> for further details."
     ]
    }
   ],
   "source": [
    "from scipy import io\n",
    "import numpy as np\n",
    "im = io.loadmat('/home/yiping/Downloads/wire/data/bun.mat')\n",
    "im.keys()\n",
    "\n",
    "print((im['occupancy_grid']/255).sum())\n",
    "print(512**3)\n"
   ]
  },
  {
   "cell_type": "code",
   "execution_count": 21,
   "metadata": {},
   "outputs": [
    {
     "data": {
      "text/plain": [
       "586.4571843589464"
      ]
     },
     "execution_count": 21,
     "metadata": {},
     "output_type": "execute_result"
    }
   ],
   "source": [
    "def jl(n,eps):\n",
    "    return (4*np.log(n))/(eps**2/2-eps**3/3)\n",
    "\n",
    "jl(196,0.3)\n",
    "# np.log(196*1024*4)"
   ]
  },
  {
   "cell_type": "code",
   "execution_count": 4,
   "metadata": {},
   "outputs": [],
   "source": [
    "import open3d as o3d\n",
    "import numpy as np\n",
    "\n",
    "mesh = o3d.io.read_triangle_mesh(\"/home/yiping/Downloads/wire/bun_zipper.ply\")\n",
    "mesh.compute_vertex_normals()\n",
    "pcd = mesh.sample_points_poisson_disk(number_of_points=1000000)\n",
    "points = np.asarray(pcd.points)\n",
    "\n",
    "occupancy_grid = np.zeros((512,512,512), dtype=np.uint8)\n",
    "\n",
    "min_bound = points.min(axis=0) \n",
    "max_bound = points.max(axis=0)  \n",
    "\n",
    "for point in points:\n",
    "    normalized = (point - min_bound) / (max_bound - min_bound)\n",
    "    voxel_coords = (normalized * (512 - 1)).astype(int)\n",
    "    occupancy_grid[voxel_coords[0], voxel_coords[1], voxel_coords[2]] = 1"
   ]
  },
  {
   "cell_type": "code",
   "execution_count": 3,
   "metadata": {},
   "outputs": [],
   "source": [
    "import numpy as np\n",
    "\n",
    "# 假设points是你的点云数据，每个元素是(x, y, z)坐标\n",
    "# 对于一个真实的例子，这里的points将是上一步从模型中采样得到的点云坐标\n",
    "\n",
    "# 创建一个512x512x512的数组，用0初始化，表示没有点占据\n",
    "occupancy_grid = np.zeros((512, 512, 512), dtype=np.uint8)\n",
    "\n",
    "# 计算点云的边界\n",
    "min_bound = points.min(axis=0)  # 找到x, y, z的最小值\n",
    "max_bound = points.max(axis=0)  # 找到x, y, z的最大值\n",
    "\n",
    "# 将每个点映射到体素网格中\n",
    "for point in points:\n",
    "    # 标准化点坐标到[0, 1]\n",
    "    normalized = (point - min_bound) / (max_bound - min_bound)\n",
    "    # 将归一化坐标映射到网格大小\n",
    "    voxel_coords = (normalized * (512 - 1)).astype(int)\n",
    "    occupancy_grid[voxel_coords[0], voxel_coords[1], voxel_coords[2]] = 1"
   ]
  },
  {
   "cell_type": "code",
   "execution_count": 1,
   "metadata": {},
   "outputs": [
    {
     "ename": "NameError",
     "evalue": "name 'occupancy_grid' is not defined",
     "output_type": "error",
     "traceback": [
      "\u001b[0;31m---------------------------------------------------------------------------\u001b[0m",
      "\u001b[0;31mNameError\u001b[0m                                 Traceback (most recent call last)",
      "Cell \u001b[0;32mIn[1], line 1\u001b[0m\n\u001b[0;32m----> 1\u001b[0m \u001b[43moccupancy_grid\u001b[49m\u001b[38;5;241m.\u001b[39mmax()\n",
      "\u001b[0;31mNameError\u001b[0m: name 'occupancy_grid' is not defined"
     ]
    }
   ],
   "source": [
    "occupancy_grid.max()"
   ]
  },
  {
   "cell_type": "code",
   "execution_count": 22,
   "metadata": {},
   "outputs": [
    {
     "ename": "",
     "evalue": "",
     "output_type": "error",
     "traceback": [
      "\u001b[1;31mThe Kernel crashed while executing code in the current cell or a previous cell. \n",
      "\u001b[1;31mPlease review the code in the cell(s) to identify a possible cause of the failure. \n",
      "\u001b[1;31mClick <a href='https://aka.ms/vscodeJupyterKernelCrash'>here</a> for more info. \n",
      "\u001b[1;31mView Jupyter <a href='command:jupyter.viewOutput'>log</a> for further details."
     ]
    }
   ],
   "source": [
    "from scipy.io import savemat\n",
    "\n",
    "data = {'occupancy_grid': occupancy_grid*255}\n",
    "\n",
    "savemat(\"grid.mat\", data)\n",
    "\n"
   ]
  },
  {
   "cell_type": "code",
   "execution_count": 10,
   "metadata": {},
   "outputs": [
    {
     "ename": "AttributeError",
     "evalue": "module 'pyvista' has no attribute 'UniformGrid'",
     "output_type": "error",
     "traceback": [
      "\u001b[0;31m---------------------------------------------------------------------------\u001b[0m",
      "\u001b[0;31mAttributeError\u001b[0m                            Traceback (most recent call last)",
      "Cell \u001b[0;32mIn[10], line 7\u001b[0m\n\u001b[1;32m      2\u001b[0m \u001b[38;5;28;01mimport\u001b[39;00m \u001b[38;5;21;01mpyvista\u001b[39;00m \u001b[38;5;28;01mas\u001b[39;00m \u001b[38;5;21;01mpv\u001b[39;00m\n\u001b[1;32m      4\u001b[0m \u001b[38;5;66;03m# 假设occupancy_grid是你已经有的512x512x512的numpy数组\u001b[39;00m\n\u001b[1;32m      5\u001b[0m \n\u001b[1;32m      6\u001b[0m \u001b[38;5;66;03m# 将numpy数组转换为PyVista的网格格式\u001b[39;00m\n\u001b[0;32m----> 7\u001b[0m grid \u001b[38;5;241m=\u001b[39m \u001b[43mpv\u001b[49m\u001b[38;5;241;43m.\u001b[39;49m\u001b[43mUniformGrid\u001b[49m()\n\u001b[1;32m      9\u001b[0m \u001b[38;5;66;03m# 设置网格的尺寸\u001b[39;00m\n\u001b[1;32m     10\u001b[0m grid\u001b[38;5;241m.\u001b[39mdimensions \u001b[38;5;241m=\u001b[39m np\u001b[38;5;241m.\u001b[39marray(occupancy_grid\u001b[38;5;241m.\u001b[39mshape) \u001b[38;5;241m+\u001b[39m \u001b[38;5;241m1\u001b[39m\n",
      "File \u001b[0;32m~/anaconda3/envs/wire/lib/python3.9/site-packages/pyvista/__init__.py:94\u001b[0m, in \u001b[0;36m__getattr__\u001b[0;34m(name)\u001b[0m\n\u001b[1;32m     92\u001b[0m     feature \u001b[38;5;241m=\u001b[39m inspect\u001b[38;5;241m.\u001b[39mgetattr_static(sys\u001b[38;5;241m.\u001b[39mmodules[\u001b[38;5;124m'\u001b[39m\u001b[38;5;124mpyvista.plotting\u001b[39m\u001b[38;5;124m'\u001b[39m], name)\n\u001b[1;32m     93\u001b[0m \u001b[38;5;28;01mexcept\u001b[39;00m \u001b[38;5;167;01mAttributeError\u001b[39;00m:\n\u001b[0;32m---> 94\u001b[0m     \u001b[38;5;28;01mraise\u001b[39;00m \u001b[38;5;167;01mAttributeError\u001b[39;00m(\u001b[38;5;124mf\u001b[39m\u001b[38;5;124m\"\u001b[39m\u001b[38;5;124mmodule \u001b[39m\u001b[38;5;124m'\u001b[39m\u001b[38;5;124mpyvista\u001b[39m\u001b[38;5;124m'\u001b[39m\u001b[38;5;124m has no attribute \u001b[39m\u001b[38;5;124m'\u001b[39m\u001b[38;5;132;01m{\u001b[39;00mname\u001b[38;5;132;01m}\u001b[39;00m\u001b[38;5;124m'\u001b[39m\u001b[38;5;124m\"\u001b[39m) \u001b[38;5;28;01mfrom\u001b[39;00m \u001b[38;5;28;01mNone\u001b[39;00m\n\u001b[1;32m     96\u001b[0m \u001b[38;5;28;01mreturn\u001b[39;00m feature\n",
      "\u001b[0;31mAttributeError\u001b[0m: module 'pyvista' has no attribute 'UniformGrid'"
     ]
    }
   ],
   "source": [
    "import numpy as np\n",
    "import pyvista as pv\n",
    "\n",
    "# 假设occupancy_grid是你已经有的512x512x512的numpy数组\n",
    "\n",
    "# 将numpy数组转换为PyVista的网格格式\n",
    "grid = pv.UniformGrid()\n",
    "\n",
    "# 设置网格的尺寸\n",
    "grid.dimensions = np.array(occupancy_grid.shape) + 1\n",
    "\n",
    "# 设置网格的原点（这里设置为(0,0,0)）\n",
    "grid.origin = (0, 0, 0)\n",
    "\n",
    "# 设置网格的间距（这里每个体素的大小设置为1x1x1）\n",
    "grid.spacing = (1, 1, 1)\n",
    "\n",
    "# 添加网格的标量数据\n",
    "grid.cell_arrays[\"values\"] = occupancy_grid.flatten(order=\"F\")  # Flatten the array\n",
    "\n",
    "# 提取等值面\n",
    "contours = grid.contour(isosurfaces=[1], scalars=\"values\")\n",
    "\n",
    "# 可视化\n",
    "p = pv.Plotter()\n",
    "p.add_mesh(contours, color=\"white\", opacity=0.5)\n",
    "p.show()"
   ]
  },
  {
   "cell_type": "code",
   "execution_count": 3,
   "metadata": {},
   "outputs": [
    {
     "name": "stderr",
     "output_type": "stream",
     "text": [
      "\u001b[0m\u001b[33m2024-03-31 10:35:30.933 (   8.522s) [    7B3D5C572740]      vtkDelaunay3D.cxx:513   WARN| vtkDelaunay3D (0x64a4416a7340): 1 degenerate triangles encountered, mesh quality suspect\u001b[0m\n"
     ]
    },
    {
     "ename": "",
     "evalue": "",
     "output_type": "error",
     "traceback": [
      "\u001b[1;31mThe Kernel crashed while executing code in the current cell or a previous cell. \n",
      "\u001b[1;31mPlease review the code in the cell(s) to identify a possible cause of the failure. \n",
      "\u001b[1;31mClick <a href='https://aka.ms/vscodeJupyterKernelCrash'>here</a> for more info. \n",
      "\u001b[1;31mView Jupyter <a href='command:jupyter.viewOutput'>log</a> for further details."
     ]
    }
   ],
   "source": [
    "import pyvista as pv\n",
    "import numpy as np\n",
    "\n",
    "# 将occupancy grid转换为一个UnstructuredGrid，以便可视化\n",
    "# 首先，获取所有占据的体素的中心点坐标\n",
    "occupied_indices = np.array(np.where(occupancy_grid)).T\n",
    "occupied_points = occupied_indices + 0.5  # 把索引转换为中心点坐标\n",
    "\n",
    "# 创建pyvista的点云\n",
    "cloud = pv.PolyData(occupied_points)\n",
    "# 创建体素：每个点为一个立方体的中心\n",
    "voxels = cloud.delaunay_3d(alpha=1)\n",
    "\n",
    "# 可视化\n",
    "p = pv.Plotter()\n",
    "p.add_mesh(voxels, opacity=0.5, color='blue')\n",
    "p.show_grid()\n",
    "p.show()"
   ]
  },
  {
   "cell_type": "markdown",
   "metadata": {},
   "source": []
  },
  {
   "cell_type": "code",
   "execution_count": 11,
   "metadata": {},
   "outputs": [
    {
     "data": {
      "image/png": "[encoded data removed]",
      "text/plain": [
       "<Figure size 1500x500 with 3 Axes>"
      ]
     },
     "metadata": {},
     "output_type": "display_data"
    }
   ],
   "source": [
    "import matplotlib.pyplot as plt\n",
    "import numpy as np\n",
    "\n",
    "# 假设occupancy_grid是你的512x512x512 binary occupancy grid\n",
    "\n",
    "# 选择要可视化的切片索引\n",
    "z_slices = [128, 256, 384]  # Z轴上的三个不同位置\n",
    "\n",
    "# 创建一个画布，绘制三个切片\n",
    "fig, axes = plt.subplots(1, len(z_slices), figsize=(15, 5))\n",
    "for i, z in enumerate(z_slices):\n",
    "    # 提取特定Z轴位置的切片\n",
    "    slice = occupancy_grid[:, :, z]\n",
    "    # 在子图上绘制切片\n",
    "    axes[i].imshow(slice, cmap='gray')\n",
    "    axes[i].set_title(f'Z={z} Slice')\n",
    "    axes[i].axis('off')\n",
    "\n",
    "# 显示图形\n",
    "plt.show()"
   ]
  },
  {
   "cell_type": "code",
   "execution_count": null,
   "metadata": {},
   "outputs": [],
   "source": []
  },
  {
   "cell_type": "code",
   "execution_count": 12,
   "metadata": {},
   "outputs": [],
   "source": [
    "from plyfile import PlyData, PlyElement\n",
    "pc = PlyData.read('/home/yiping/Downloads/wire/bun_zipper.ply')"
   ]
  },
  {
   "cell_type": "code",
   "execution_count": 13,
   "metadata": {},
   "outputs": [
    {
     "data": {
      "text/plain": [
       "PlyData((PlyElement('vertex', (PlyProperty('x', 'float'), PlyProperty('y', 'float'), PlyProperty('z', 'float'), PlyProperty('confidence', 'float'), PlyProperty('intensity', 'float')), count=35947, comments=[]), PlyElement('face', (PlyListProperty('vertex_indices', 'uchar', 'int'),), count=69451, comments=[])), text=True, byte_order='=', comments=['zipper output'], obj_info=[])"
      ]
     },
     "execution_count": 13,
     "metadata": {},
     "output_type": "execute_result"
    }
   ],
   "source": [
    "pc"
   ]
  }
 ],
 "metadata": {
  "kernelspec": {
   "display_name": "low_rank",
   "language": "python",
   "name": "python3"
  },
  "language_info": {
   "codemirror_mode": {
    "name": "ipython",
    "version": 3
   },
   "file_extension": ".py",
   "mimetype": "text/x-python",
   "name": "python",
   "nbconvert_exporter": "python",
   "pygments_lexer": "ipython3",
   "version": "3.9.18"
  }
 },
 "nbformat": 4,
 "nbformat_minor": 2
}
